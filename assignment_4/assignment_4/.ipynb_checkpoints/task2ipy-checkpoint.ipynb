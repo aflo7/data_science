{
 "cells": [
  {
   "cell_type": "markdown",
   "id": "a67fec0b",
   "metadata": {},
   "source": [
    "Scrape the movie info (e.g., name, year, rating) of all movies with above 8.5 ratings in the 1990's (https://www.imdb.com/chart/top). "
   ]
  },
  {
   "cell_type": "code",
   "execution_count": 5,
   "id": "71c5ad53",
   "metadata": {},
   "outputs": [
    {
     "name": "stdout",
     "output_type": "stream",
     "text": [
      "The Shawshank Redemption 9.2\n",
      "Schindler's List 8.9\n",
      "Pulp Fiction 8.8\n",
      "Forrest Gump 8.8\n",
      "Fight Club 8.7\n",
      "The Matrix 8.7\n",
      "Goodfellas 8.7\n",
      "Se7en 8.6\n",
      "The Silence of the Lambs 8.6\n",
      "Saving Private Ryan 8.6\n",
      "Life Is Beautiful 8.6\n",
      "The Green Mile 8.6\n"
     ]
    }
   ],
   "source": [
    "# import the required libraries\n",
    "import requests\n",
    "from bs4 import BeautifulSoup\n",
    "\n",
    "url = \"https://www.imdb.com/chart/top\"\n",
    "response = requests.get(url)\n",
    "content = response.content\n",
    "\n",
    "soup = BeautifulSoup(content, 'html.parser')\n",
    "movies = soup.find_all('tr') # get each row containing movie data\n",
    "\n",
    "for movie in movies:\n",
    "    \n",
    "  # start with empty data, to verify the requirements with later\n",
    "  movieName = \"\"\n",
    "  releaseYear = None\n",
    "  rating = \"\"\n",
    "  \n",
    "  titleTd = movie.select_one('.titleColumn')\n",
    "  if titleTd:\n",
    "    movieName = titleTd.find(\"a\").text # get the movieName from the column with class \"titleColumn\"\n",
    "    releaseYear = titleTd.find(\"span\", {'class': \"secondaryInfo\"}).text.replace(\"(\", \"\").replace(\")\", \"\") # get the movie release year and clean it\n",
    "  ratingTd = movie.select_one('.ratingColumn.imdbRating')\n",
    "  if ratingTd:\n",
    "    strongTag = ratingTd.find('strong')\n",
    "    rating = strongTag.text\n",
    "  \n",
    "  # if we successfully scraped all required data...\n",
    "  if movieName and releaseYear and rating:\n",
    "    if int(releaseYear) >= 1990 and int(releaseYear) <= 1999 and float(rating) > 8.5:\n",
    "      print(movieName, rating)"
   ]
  },
  {
   "cell_type": "code",
   "execution_count": null,
   "id": "8dca2d1e",
   "metadata": {},
   "outputs": [],
   "source": []
  }
 ],
 "metadata": {
  "kernelspec": {
   "display_name": "Python 3 (ipykernel)",
   "language": "python",
   "name": "python3"
  },
  "language_info": {
   "codemirror_mode": {
    "name": "ipython",
    "version": 3
   },
   "file_extension": ".py",
   "mimetype": "text/x-python",
   "name": "python",
   "nbconvert_exporter": "python",
   "pygments_lexer": "ipython3",
   "version": "3.9.13"
  }
 },
 "nbformat": 4,
 "nbformat_minor": 5
}
