{
 "cells": [
  {
   "cell_type": "markdown",
   "id": "e0af8525",
   "metadata": {},
   "source": [
    "I will be scraping data from weather.com\n",
    "\n",
    "The URL is https://weather.com/weather/today/l/f06848d98b2de6e4c8e057e63fa6ba308ead9c397626e2dbab996d0c687bf5a6 and most of the data comes from the section of the website which starts with \"Weather Today in (city, state)\""
   ]
  },
  {
   "cell_type": "code",
   "execution_count": 9,
   "id": "5043b310",
   "metadata": {},
   "outputs": [],
   "source": [
    "# Import the required libraries\n",
    "import requests\n",
    "from bs4 import BeautifulSoup"
   ]
  },
  {
   "cell_type": "code",
   "execution_count": 11,
   "id": "d5ca218a",
   "metadata": {},
   "outputs": [
    {
     "name": "stdout",
     "output_type": "stream",
     "text": [
      "The following is a report for the city Bowling Green, KY\n",
      "Current temp: 62°\n",
      "Wind Speed: 1 mph\n",
      "Humidity: 46°\n",
      "UV Index: 0 of 10\n"
     ]
    }
   ],
   "source": [
    "url = \"https://weather.com/weather/today/l/f06848d98b2de6e4c8e057e63fa6ba308ead9c397626e2dbab996d0c687bf5a6\"\n",
    "\n",
    "# simply swap out the URL with a new weather.com URL and data will be scraped\n",
    "# the above URL points to the city: Bowling Green, KY\n",
    "\n",
    "response = requests.get(url)\n",
    "content = response.content\n",
    "\n",
    "soup = BeautifulSoup(content, \"html.parser\")\n",
    "section1 = soup.find(\"section\", {'class': \"card\"})  # get the section containing the weather today in Bowling Green, KY\n",
    "\n",
    "city = soup.find(\"h1\", {\"class\": \"CurrentConditions--location--1YWj_\"}).text\n",
    "print(\"The following is a report for the city \" + city)\n",
    "# temperature\n",
    "print(\"Current temp:\", section1.find('span', {'data-testid': \"TemperatureValue\"}).text)\n",
    "\n",
    "section2 = soup.find(\"div\", {\"class\": \"TodayDetailsCard--detailsContainer--2yLtL\"})\n",
    "print(\"Wind Speed:\", section2.find(\"span\", {'data-testid': \"Wind\"}).text[14:])\n",
    "print(\"Humidity:\", section2.find(\"div\", {\"class\": \"WeatherDetailsListItem--wxData--kK35q\"}).find_all(\"span\")[1].text)\n",
    "print(\"UV Index:\", section2.find_all(\"div\", {\"data-testid\": \"WeatherDetailsListItem\"})[5].find('span', {'data-testid':\"UVIndexValue\"}).text)"
   ]
  },
  {
   "attachments": {},
   "cell_type": "markdown",
   "id": "19f94a22",
   "metadata": {},
   "source": []
  },
  {
   "cell_type": "code",
   "execution_count": null,
   "id": "f6439b8b",
   "metadata": {},
   "outputs": [],
   "source": []
  },
  {
   "cell_type": "code",
   "execution_count": null,
   "id": "50f27493",
   "metadata": {},
   "outputs": [],
   "source": []
  }
 ],
 "metadata": {
  "kernelspec": {
   "display_name": "Python 3 (ipykernel)",
   "language": "python",
   "name": "python3"
  },
  "language_info": {
   "codemirror_mode": {
    "name": "ipython",
    "version": 3
   },
   "file_extension": ".py",
   "mimetype": "text/x-python",
   "name": "python",
   "nbconvert_exporter": "python",
   "pygments_lexer": "ipython3",
   "version": "3.9.13"
  }
 },
 "nbformat": 4,
 "nbformat_minor": 5
}
