{
 "cells": [
  {
   "cell_type": "markdown",
   "metadata": {},
   "source": [
    "# CS4630/5630 - Assignment 2\n",
    "\n",
    "Answer the exercises or complete the tasks outlined in bold, using the specific method described if applicable."
   ]
  },
  {
   "cell_type": "markdown",
   "metadata": {},
   "source": [
    "#### EXERCISE 1: String drills\n",
    "*Objective: Consolidate string manipulation, converting between data types where needed, using .format(), and not crashing due to quote mark issues.*\n",
    "\n",
    "\n",
    "**1a: Combine these four variables into a single string and print it.**"
   ]
  },
  {
   "cell_type": "code",
   "execution_count": null,
   "metadata": {},
   "outputs": [],
   "source": [
    "a = 'Welcome to '\n",
    "b = 'Python class '\n",
    "c = 'assignment '\n",
    "d = 2"
   ]
  },
  {
   "cell_type": "code",
   "execution_count": null,
   "metadata": {},
   "outputs": [],
   "source": [
    "# YOUR CODE HERE\n"
   ]
  },
  {
   "cell_type": "markdown",
   "metadata": {},
   "source": [
    "**1b: Print `pi` to seven decimal places.**\n",
    "\n",
    "Hint: `.format` helps format strings neatly (see the lecture notebook)."
   ]
  },
  {
   "cell_type": "code",
   "execution_count": null,
   "metadata": {},
   "outputs": [],
   "source": [
    "pi_approx = 355/113\n",
    "\n",
    "# YOUR CODE HERE:\n"
   ]
  },
  {
   "cell_type": "markdown",
   "metadata": {},
   "source": [
    "**1c: Print both of the following:**\n",
    "\n",
    "    Nick says \"hello\"\n",
    "    This is Dharana's sandwich"
   ]
  },
  {
   "cell_type": "code",
   "execution_count": null,
   "metadata": {
    "scrolled": true
   },
   "outputs": [],
   "source": [
    "# YOUR CODE HERE: \n"
   ]
  },
  {
   "cell_type": "markdown",
   "metadata": {},
   "source": [
    "#### EXERCISE 2: Tourist agency\n",
    "*Objective: Iterate through lists, use string formatting.*\n",
    "\n",
    "Write a program to print \"Welcome to beautiful {country}!\" for each country in the list."
   ]
  },
  {
   "cell_type": "code",
   "execution_count": null,
   "metadata": {},
   "outputs": [],
   "source": [
    "country_list = ['Kazakhstan','Kenya', 'Kiribati', \"Korea (DPRK)\", 'Korea (ROC)', 'Kosovo', 'Kuwait', 'Kyrgyzstan']"
   ]
  },
  {
   "cell_type": "code",
   "execution_count": null,
   "metadata": {},
   "outputs": [],
   "source": [
    "# YOUR CODE HERE:\n"
   ]
  },
  {
   "cell_type": "markdown",
   "metadata": {},
   "source": [
    "#### EXERCISE 3: Quick brown fox\n",
    "**Split the string below into a list of words, then:**\n",
    "* print only the second to fifth items in the list\n",
    "* count the items in the list\n",
    "* replace \"dog\" with \"dinosaur\""
   ]
  },
  {
   "cell_type": "code",
   "execution_count": null,
   "metadata": {},
   "outputs": [],
   "source": [
    "rhyme = \"The quick brown fox jumps over the lazy dog\"\n",
    "\n",
    "# YOUR CODE HERE:\n"
   ]
  },
  {
   "cell_type": "code",
   "execution_count": null,
   "metadata": {},
   "outputs": [],
   "source": []
  },
  {
   "cell_type": "code",
   "execution_count": null,
   "metadata": {},
   "outputs": [],
   "source": []
  },
  {
   "cell_type": "code",
   "execution_count": null,
   "metadata": {},
   "outputs": [],
   "source": []
  },
  {
   "cell_type": "markdown",
   "metadata": {},
   "source": [
    "#### EXERCISE 4: Name formatter\n",
    "**Reformat each name to match the following**: \n",
    "* LAST NAME, First name.\n",
    "\n",
    "Note the capitalization and comma. Hint: use `.split()` and `.upper()`."
   ]
  },
  {
   "cell_type": "code",
   "execution_count": null,
   "metadata": {},
   "outputs": [],
   "source": [
    "instructor1 = 'Gaurav Bhardwaj'\n",
    "instructor2 = 'Mahmoud Elsayed'\n",
    "\n",
    "# YOUR CODE HERE:\n"
   ]
  },
  {
   "cell_type": "markdown",
   "metadata": {},
   "source": [
    "#### EXERCISE 6: Tangled lists\n",
    "\n",
    "*Objective: Navigate a set of lists nested inside lists, use square bracket indexing, use list comprehensions.*\n",
    "\n",
    "Given this nested list, grab the word dragon:"
   ]
  },
  {
   "cell_type": "code",
   "execution_count": null,
   "metadata": {},
   "outputs": [],
   "source": [
    "my_list = [0,4,[4,3,2],[420, 250, [1,2,3,'dragon']],365,23,6]"
   ]
  },
  {
   "cell_type": "code",
   "execution_count": null,
   "metadata": {},
   "outputs": [],
   "source": []
  },
  {
   "cell_type": "markdown",
   "metadata": {},
   "source": [
    "Convert the following list from strings to integers:"
   ]
  },
  {
   "cell_type": "code",
   "execution_count": null,
   "metadata": {},
   "outputs": [],
   "source": [
    "# YOUR CODE HERE:\n",
    "\n",
    "ZIP_list = ['10009','20009','20022','20034','90210']\n"
   ]
  },
  {
   "cell_type": "markdown",
   "metadata": {},
   "source": [
    "#### EXERCISE 7: Prime numbers\n",
    "*Objective: Combine loops, logic conditions and math operations.*"
   ]
  },
  {
   "cell_type": "markdown",
   "metadata": {},
   "source": [
    "Write a program to loop from 1 to 100 and print all the prime numbers"
   ]
  },
  {
   "cell_type": "code",
   "execution_count": null,
   "metadata": {
    "scrolled": true
   },
   "outputs": [],
   "source": [
    "# YOUR CODE HERE:\n"
   ]
  },
  {
   "cell_type": "markdown",
   "metadata": {},
   "source": [
    "#### EXERCISE 8: List comprehensions\n",
    "Use list comprehensions to do the following:\n",
    "* 6a. List all numbers from 1 to 1000 that are divisible by 12.\n",
    "* 6b. List all the holiday destinations that are less than 7 characters long."
   ]
  },
  {
   "cell_type": "code",
   "execution_count": null,
   "metadata": {},
   "outputs": [],
   "source": [
    "# YOUR CODE HERE\n",
    "\n",
    "holiday_destinations = ['maine','cornwall','ibiza','florida','bali','bognor regis']"
   ]
  }
 ],
 "metadata": {
  "kernelspec": {
   "display_name": "Python 3 (ipykernel)",
   "language": "python",
   "name": "python3"
  },
  "language_info": {
   "codemirror_mode": {
    "name": "ipython",
    "version": 3
   },
   "file_extension": ".py",
   "mimetype": "text/x-python",
   "name": "python",
   "nbconvert_exporter": "python",
   "pygments_lexer": "ipython3",
   "version": "3.9.13"
  }
 },
 "nbformat": 4,
 "nbformat_minor": 2
}
