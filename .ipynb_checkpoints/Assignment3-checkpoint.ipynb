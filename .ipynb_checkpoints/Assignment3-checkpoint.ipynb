{
 "cells": [
  {
   "cell_type": "code",
   "execution_count": null,
   "metadata": {},
   "outputs": [],
   "source": [
    "import os, sys\n",
    "import numpy as np\n",
    "import pandas as pd"
   ]
  },
  {
   "cell_type": "markdown",
   "metadata": {},
   "source": [
    "# Assignment 3 - Functions and Pandas\n",
    "This assignment will get you writing functions and using Pandas to manipulate datasets."
   ]
  },
  {
   "cell_type": "markdown",
   "metadata": {},
   "source": [
    "## 1. Functions"
   ]
  },
  {
   "cell_type": "markdown",
   "metadata": {},
   "source": [
    "#### EXERCISE 1.1: What's a Function??\n",
    "_Objective: Master the basics of functions._\n",
    "\n",
    "We learned in class the anatomy of a function. It looks like this:"
   ]
  },
  {
   "cell_type": "code",
   "execution_count": 2,
   "metadata": {
    "collapsed": true
   },
   "outputs": [],
   "source": [
    "def aNewFunction():\n",
    "    print('I do some things to some inputs! :)')"
   ]
  },
  {
   "cell_type": "markdown",
   "metadata": {},
   "source": [
    "We call a function like this:"
   ]
  },
  {
   "cell_type": "code",
   "execution_count": 3,
   "metadata": {
    "scrolled": true
   },
   "outputs": [
    {
     "name": "stdout",
     "output_type": "stream",
     "text": [
      "I do some things to some inputs! :)\n"
     ]
    }
   ],
   "source": [
    "aNewFunction()"
   ]
  },
  {
   "cell_type": "markdown",
   "metadata": {},
   "source": [
    "a.) Modify the above function by giving it a new name 'myFirstFunction'. Make it print out you name and favourite color:"
   ]
  },
  {
   "cell_type": "code",
   "execution_count": 2,
   "metadata": {},
   "outputs": [
    {
     "name": "stdout",
     "output_type": "stream",
     "text": [
      "Your name is Andres and your favorite color is blue\n"
     ]
    }
   ],
   "source": [
    "# YOUR CODE HERE:\n",
    "def myFirstFunction(name, color):\n",
    "    print(f\"Your name is {name} and your favorite color is {color}\")\n",
    "myFirstFunction(\"Andres\", \"blue\")    \n",
    "    \n"
   ]
  },
  {
   "cell_type": "markdown",
   "metadata": {},
   "source": [
    "We remember from class (of course we do!!) that a function can take variables as inputs. Those functions look like this:"
   ]
  },
  {
   "cell_type": "code",
   "execution_count": 15,
   "metadata": {},
   "outputs": [
    {
     "name": "stdout",
     "output_type": "stream",
     "text": [
      "the value of the variable called myVar is: Arya is the best Stark\n"
     ]
    }
   ],
   "source": [
    "def aSecondFunction(myVar):\n",
    "        print('the value of the variable called myVar is: %s' % str(myVar)) # a new way to substitute myVar into the sentence\n",
    "aSecondFunction('Arya is the best Stark')"
   ]
  },
  {
   "cell_type": "code",
   "execution_count": 9,
   "metadata": {
    "scrolled": true
   },
   "outputs": [
    {
     "ename": "NameError",
     "evalue": "name 'aSecondFunction' is not defined",
     "output_type": "error",
     "traceback": [
      "\u001b[0;31m---------------------------------------------------------------------------\u001b[0m",
      "\u001b[0;31mNameError\u001b[0m                                 Traceback (most recent call last)",
      "\u001b[0;32m/var/folders/0r/tsslvr091hx5wmgbcymx__vh0000gn/T/ipykernel_36745/1561206425.py\u001b[0m in \u001b[0;36m<module>\u001b[0;34m\u001b[0m\n\u001b[0;32m----> 1\u001b[0;31m \u001b[0maSecondFunction\u001b[0m\u001b[0;34m(\u001b[0m\u001b[0;34m'Arya is the best Stark'\u001b[0m\u001b[0;34m)\u001b[0m\u001b[0;34m\u001b[0m\u001b[0;34m\u001b[0m\u001b[0m\n\u001b[0m",
      "\u001b[0;31mNameError\u001b[0m: name 'aSecondFunction' is not defined"
     ]
    }
   ],
   "source": []
  },
  {
   "cell_type": "markdown",
   "metadata": {},
   "source": [
    "b.) Change this function to include a second variable. Print both variables out, one at a time!"
   ]
  },
  {
   "cell_type": "code",
   "execution_count": 16,
   "metadata": {},
   "outputs": [
    {
     "name": "stdout",
     "output_type": "stream",
     "text": [
      "the value of the first variable called myVar is: Hello The value of the second variable called myVar2 is World\n"
     ]
    }
   ],
   "source": [
    "# YOUR CODE HERE:\n",
    "def modifiedSecondFunction(myVar, myVar2):\n",
    "    print('the value of the first variable called myVar is: %s The value of the second variable called myVar2 is %s' % (str(myVar), str(myVar2)))\n",
    "modifiedSecondFunction(\"Hello\", \"World\")\n"
   ]
  },
  {
   "cell_type": "markdown",
   "metadata": {},
   "source": [
    "In class we also learned that optional variables MUST be defined in the function AFTER required variables. \n",
    "\n",
    "You can spot an optional variable because it has a default set in the function definition:"
   ]
  },
  {
   "cell_type": "code",
   "execution_count": 11,
   "metadata": {
    "collapsed": true
   },
   "outputs": [],
   "source": [
    "def aThirdFunction(required_variable, optional_variable = 'character'):\n",
    "    print('the required variable is:', required_variable)\n",
    "    print('the optional variable is:', optional_variable)"
   ]
  },
  {
   "cell_type": "markdown",
   "metadata": {},
   "source": [
    "We have to define required variables first in the function definition (the block starting with 'def'). Trying to define an optional variable first results in this:"
   ]
  },
  {
   "cell_type": "code",
   "execution_count": 17,
   "metadata": {},
   "outputs": [
    {
     "ename": "SyntaxError",
     "evalue": "non-default argument follows default argument (<ipython-input-17-b64e53ae9051>, line 1)",
     "output_type": "error",
     "traceback": [
      "\u001b[1;36m  File \u001b[1;32m\"<ipython-input-17-b64e53ae9051>\"\u001b[1;36m, line \u001b[1;32m1\u001b[0m\n\u001b[1;33m    def aThirdFunction(optional_variable = 'character', required_variable):\u001b[0m\n\u001b[1;37m                      ^\u001b[0m\n\u001b[1;31mSyntaxError\u001b[0m\u001b[1;31m:\u001b[0m non-default argument follows default argument\n"
     ]
    }
   ],
   "source": [
    "def aThirdFunction(optional_variable = 'character', required_variable):\n",
    "    print('the required variable is:', required_variable)\n",
    "    print('the optional variable is:', optional_variable)"
   ]
  },
  {
   "cell_type": "markdown",
   "metadata": {},
   "source": [
    "We run the function by writing its name, then opening brackets, and passing in at least required number of objects:"
   ]
  },
  {
   "cell_type": "code",
   "execution_count": 3,
   "metadata": {},
   "outputs": [
    {
     "name": "stdout",
     "output_type": "stream",
     "text": [
      "the required variable is: Arya is the best\n",
      "the optional variable is: Stark\n"
     ]
    }
   ],
   "source": [
    "def aThirdFunction(required_variable, optional_variable = 'character'):\n",
    "    print('the required variable is:', required_variable)\n",
    "    print('the optional variable is:', optional_variable)\n",
    "    \n",
    "#aThirdFunction('Arya is the best')\n",
    "aThirdFunction('Arya is the best', 'Stark')"
   ]
  },
  {
   "cell_type": "markdown",
   "metadata": {},
   "source": [
    "We can see the values are assigned to the variables in the order in which they are defined in the function - when we don't specify exactly which input variables they should take. \n",
    "\n",
    "We can get the opposite result by assigning the values explicity to the variables:"
   ]
  },
  {
   "cell_type": "code",
   "execution_count": 18,
   "metadata": {},
   "outputs": [
    {
     "name": "stdout",
     "output_type": "stream",
     "text": [
      "the required variable is: Stark\n",
      "the optional variable is: Arya is the best\n"
     ]
    }
   ],
   "source": [
    "aThirdFunction(optional_variable = 'Arya is the best', required_variable = 'Stark')"
   ]
  },
  {
   "cell_type": "markdown",
   "metadata": {},
   "source": [
    "Note - we can specify the values in any order - including optional ones first - as long as all required variables (no default) are assigned an input when we call the function.\n",
    "\n",
    "what happens if we don't bother defining a value for the optional variable?"
   ]
  },
  {
   "cell_type": "code",
   "execution_count": 19,
   "metadata": {},
   "outputs": [
    {
     "name": "stdout",
     "output_type": "stream",
     "text": [
      "the required variable is: hopefully no surprises here...\n",
      "the optional variable is: character\n"
     ]
    }
   ],
   "source": [
    "aThirdFunction(required_variable = 'hopefully no surprises here...')"
   ]
  },
  {
   "cell_type": "markdown",
   "metadata": {},
   "source": [
    "Above, we see the function substitutes in the default value ('character') for the optional variable, called 'optional_variable'."
   ]
  },
  {
   "cell_type": "markdown",
   "metadata": {},
   "source": [
    "c.) Write a function which multiplies three numbers together and prints out the answer. For each input variable, assign a default value of 3."
   ]
  },
  {
   "cell_type": "code",
   "execution_count": null,
   "metadata": {
    "collapsed": true
   },
   "outputs": [],
   "source": [
    "# YOUR CODE HERE:\n",
    "def multiplyThreeNumbers(a = 3, b = 3, c = 3):\n",
    "    print(a * b * c)\n",
    "\n"
   ]
  },
  {
   "cell_type": "markdown",
   "metadata": {},
   "source": [
    "d.) call this function, with the input values: (4, 5, 6)"
   ]
  },
  {
   "cell_type": "code",
   "execution_count": 4,
   "metadata": {},
   "outputs": [
    {
     "name": "stdout",
     "output_type": "stream",
     "text": [
      "120\n"
     ]
    }
   ],
   "source": [
    "# YOUR CODE HERE:\n",
    "def multiplyThreeNumbers(a = 3, b = 3, c = 3):\n",
    "    print(a * b * c)\n",
    "\n",
    "multiplyThreeNumbers(4, 5, 6)"
   ]
  },
  {
   "cell_type": "markdown",
   "metadata": {},
   "source": [
    "e.) using a for-loop, call this function 5 times using the values (3, 4):"
   ]
  },
  {
   "cell_type": "code",
   "execution_count": 5,
   "metadata": {},
   "outputs": [
    {
     "name": "stdout",
     "output_type": "stream",
     "text": [
      "36\n",
      "36\n",
      "36\n",
      "36\n",
      "36\n"
     ]
    }
   ],
   "source": [
    "def multiplyThreeNumbers(a = 3, b = 3, c = 3):\n",
    "    print(a * b * c)\n",
    "    \n",
    "# YOUR CODE HERE:\n",
    "for i in range(5):\n",
    "    multiplyThreeNumbers(3,4)\n",
    "    \n"
   ]
  },
  {
   "cell_type": "markdown",
   "metadata": {},
   "source": [
    "f.) using a for-loop, call this function 5 times using the values (3, i, 5). Complete the expression:"
   ]
  },
  {
   "cell_type": "code",
   "execution_count": 6,
   "metadata": {},
   "outputs": [
    {
     "name": "stdout",
     "output_type": "stream",
     "text": [
      "0\n",
      "15\n",
      "30\n",
      "45\n",
      "60\n"
     ]
    }
   ],
   "source": [
    "# YOUR CODE HERE:\n",
    "def multiplyThreeNumbers(a = 3, b = 3, c = 3):\n",
    "    print(a * b * c)\n",
    "\n",
    "for i in range(0, 5):\n",
    "    multiplyThreeNumbers(3, i, 5)\n",
    "    "
   ]
  },
  {
   "cell_type": "markdown",
   "metadata": {},
   "source": [
    "If you made it this far you are well on your way to mastering functions!!\n",
    "\n",
    "So far, we have only asked our functions to do some basic math and print the results. Once those are printed to the console, they are gone. what if we wanted to keep them? \n",
    "\n",
    "The way we do this is to use 'return'. return allows you to assign the output of the function to a new variable! Consider the example below:"
   ]
  },
  {
   "cell_type": "code",
   "execution_count": 25,
   "metadata": {},
   "outputs": [
    {
     "name": "stdout",
     "output_type": "stream",
     "text": [
      "6\n"
     ]
    }
   ],
   "source": [
    "def NewBetterMultiplier(a=3,b=3,c=3):\n",
    "    answer = a*b*c\n",
    "    print(answer)\n",
    "    return answer\n",
    "\n",
    "\n",
    "the_output = NewBetterMultiplier(1,2,3)"
   ]
  },
  {
   "cell_type": "markdown",
   "metadata": {},
   "source": [
    "so, like last time, the function still prints out the multiplication. BUT if we now call the_output:"
   ]
  },
  {
   "cell_type": "code",
   "execution_count": 27,
   "metadata": {},
   "outputs": [
    {
     "data": {
      "text/plain": [
       "6"
      ]
     },
     "execution_count": 27,
     "metadata": {},
     "output_type": "execute_result"
    }
   ],
   "source": [
    "the_output"
   ]
  },
  {
   "cell_type": "markdown",
   "metadata": {},
   "source": [
    "...we see the value has been retained! Try executing the cell below multiple times:"
   ]
  },
  {
   "cell_type": "code",
   "execution_count": 9,
   "metadata": {},
   "outputs": [
    {
     "name": "stdout",
     "output_type": "stream",
     "text": [
      "6\n",
      "216\n"
     ]
    }
   ],
   "source": [
    "def NewBetterMultiplier(a=3,b=3,c=3):\n",
    "    answer = a*b*c\n",
    "    print(answer)\n",
    "    return answer\n",
    "\n",
    "the_output = NewBetterMultiplier(1,2,3)\n",
    "the_output = NewBetterMultiplier(the_output, the_output, the_output)"
   ]
  },
  {
   "cell_type": "markdown",
   "metadata": {},
   "source": [
    "This is a serious example of recursion - we are effectively cubing the variable, then re-assigning it as we go. \n",
    "\n",
    "One way we can collect multiple results is to append them to a list object, as per below:"
   ]
  },
  {
   "cell_type": "code",
   "execution_count": 10,
   "metadata": {},
   "outputs": [
    {
     "name": "stdout",
     "output_type": "stream",
     "text": [
      "0\n",
      "9\n",
      "18\n",
      "27\n",
      "36\n"
     ]
    },
    {
     "data": {
      "text/plain": [
       "[0, 9, 18, 27, 36]"
      ]
     },
     "execution_count": 10,
     "metadata": {},
     "output_type": "execute_result"
    }
   ],
   "source": [
    "list_of_answers = []\n",
    "for i in range(0,5):\n",
    "    result = NewBetterMultiplier(i)\n",
    "    list_of_answers.append(result)\n",
    "list_of_answers    "
   ]
  },
  {
   "cell_type": "code",
   "execution_count": null,
   "metadata": {},
   "outputs": [],
   "source": []
  },
  {
   "cell_type": "markdown",
   "metadata": {},
   "source": [
    "This becomes seriously useful, e.g. for opening up a hundred excel documents, doing something to them, then getting a readout of the results."
   ]
  },
  {
   "cell_type": "markdown",
   "metadata": {},
   "source": [
    "**EXERCISE 1.2: Bringing it all together**\n",
    "\n",
    "_Objective: Practise and consolidate your function skills_"
   ]
  },
  {
   "cell_type": "markdown",
   "metadata": {},
   "source": [
    "a.) Write a function that returns the output of the following expression: y = (x^2 + 12) / 3"
   ]
  },
  {
   "cell_type": "code",
   "execution_count": 22,
   "metadata": {},
   "outputs": [
    {
     "name": "stdout",
     "output_type": "stream",
     "text": [
      "4.0\n",
      "4.333333333333333\n",
      "5.333333333333333\n",
      "7.0\n",
      "9.333333333333334\n",
      "12.333333333333334\n",
      "16.0\n",
      "20.333333333333332\n",
      "25.333333333333332\n",
      "31.0\n",
      "\n",
      "[4.0, 4.333333333333333, 5.333333333333333, 7.0, 9.333333333333334, 12.333333333333334, 16.0, 20.333333333333332, 25.333333333333332, 31.0]\n",
      "\n",
      "9.333333333333334\n",
      "10.259259259259258\n",
      "13.481481481481481\n",
      "20.333333333333332\n",
      "33.037037037037045\n",
      "54.7037037037037\n",
      "89.33333333333333\n",
      "141.8148148148148\n",
      "217.9259259259259\n",
      "324.3333333333333\n"
     ]
    }
   ],
   "source": [
    "# YOUR CODE HERE:\n",
    "def evaluateExpression(x):\n",
    "    return (x**2 + 12) / 3\n",
    "\n",
    "#b.\n",
    "evaluateExpression(40)\n",
    "\n",
    "#c.\n",
    "for i in range(0, 10):\n",
    "    print(evaluateExpression(i))\n",
    "print()\n",
    "#d.\n",
    "lst = []\n",
    "for i in range(0, 10):\n",
    "    lst.append(evaluateExpression(i))\n",
    "print(lst)\n",
    "print()\n",
    "\n",
    "#e.\n",
    "for number in lst:\n",
    "    print(evaluateExpression(number))"
   ]
  },
  {
   "cell_type": "markdown",
   "metadata": {},
   "source": [
    "b.) call it with x = 40"
   ]
  },
  {
   "cell_type": "code",
   "execution_count": null,
   "metadata": {},
   "outputs": [],
   "source": [
    "# YOUR CODE HERE:\n"
   ]
  },
  {
   "cell_type": "markdown",
   "metadata": {},
   "source": [
    "c.) call it for every value of x between 0 and 10. print the answer as you go (this time, keep the print statement outside the function)"
   ]
  },
  {
   "cell_type": "code",
   "execution_count": null,
   "metadata": {},
   "outputs": [],
   "source": [
    "# YOUR CODE HERE:\n"
   ]
  },
  {
   "cell_type": "markdown",
   "metadata": {},
   "source": [
    "d.) append the answers to a list"
   ]
  },
  {
   "cell_type": "code",
   "execution_count": null,
   "metadata": {
    "collapsed": true
   },
   "outputs": [],
   "source": [
    "# YOUR CODE HERE:\n"
   ]
  },
  {
   "cell_type": "markdown",
   "metadata": {},
   "source": [
    "e.) iterate through the values in the list, using these as the new inputs to the function! Print out the answer"
   ]
  },
  {
   "cell_type": "code",
   "execution_count": null,
   "metadata": {},
   "outputs": [],
   "source": [
    "# YOUR CODE HERE:\n"
   ]
  },
  {
   "cell_type": "markdown",
   "metadata": {},
   "source": [
    "## 2. Pandas"
   ]
  },
  {
   "cell_type": "code",
   "execution_count": 9,
   "metadata": {},
   "outputs": [],
   "source": [
    "import pandas as pd"
   ]
  },
  {
   "cell_type": "markdown",
   "metadata": {},
   "source": [
    "__EXERCISE 2.1: Pie shop__\n",
    "\n",
    "_Objective: Create and manipulate DataFrames_\n",
    "* Create a DataFrame with three columns: month, apple_pie_sales, blueberry_pie_sales\n",
    "* Summarize which products sold best\n",
    "* Create a new column to summarize revenues"
   ]
  },
  {
   "cell_type": "code",
   "execution_count": 54,
   "metadata": {
    "scrolled": true
   },
   "outputs": [
    {
     "name": "stdout",
     "output_type": "stream",
     "text": [
      "  months  apple_pie_sales  blueberry_pie_sales\n",
      "0    Jan               34                   18\n",
      "1    Feb               19                    6\n",
      "2    Mar               28                   15\n",
      "3    Apr               45                   51\n",
      "\n",
      "\n",
      "Total sales of apple pies and blueberry pies: 216\n",
      "\n",
      "\n",
      "\n",
      "  months  apple_pie_sales  blueberry_pie_sales  apple_pie_revenue  \\\n",
      "0    Jan               34                   18                408   \n",
      "1    Feb               19                    6                228   \n",
      "2    Mar               28                   15                336   \n",
      "3    Apr               45                   51                540   \n",
      "\n",
      "   blueberry_pie_revenue  \n",
      "0                    270  \n",
      "1                     90  \n",
      "2                    225  \n",
      "3                    765  \n"
     ]
    },
    {
     "data": {
      "image/png": "[encoded data removed]",
      "text/plain": [
       "<Figure size 640x480 with 1 Axes>"
      ]
     },
     "metadata": {},
     "output_type": "display_data"
    },
    {
     "data": {
      "image/png": "[encoded data removed]",
      "text/plain": [
       "<Figure size 640x480 with 1 Axes>"
      ]
     },
     "metadata": {},
     "output_type": "display_data"
    },
    {
     "data": {
      "image/png": "[encoded data removed]",
      "text/plain": [
       "<Figure size 640x480 with 1 Axes>"
      ]
     },
     "metadata": {},
     "output_type": "display_data"
    }
   ],
   "source": [
    "# YOUR CODE HERE: create the df (data frame) using the data supplied\n",
    "# Hint: the lecture notebook shows how to do this\n",
    "import pandas as pd\n",
    "\n",
    "months = ['Jan','Feb', 'Mar', 'Apr']\n",
    "apple_pie_sales = [34, 19, 28, 45]\n",
    "blueberry_pie_sales = [18, 6, 15, 51]\n",
    "\n",
    "df = pd.DataFrame({'months': months,\n",
    "                         'apple_pie_sales': apple_pie_sales,\n",
    "                         'blueberry_pie_sales': blueberry_pie_sales})\n",
    "print(df)\n",
    "\n",
    "# YOUR CODE HERE: calculate total sales of apple pies and total sales of blueberry pies\n",
    "s = sum(df['apple_pie_sales']) + sum(df['blueberry_pie_sales'])\n",
    "print()\n",
    "print()\n",
    "\n",
    "print(\"Total sales of apple pies and blueberry pies:\", s)\n",
    "print()\n",
    "print()\n",
    "\n",
    "apple_pie_price = 12\n",
    "blueberry_pie_price = 15\n",
    "\n",
    "print()\n",
    "df[\"apple_pie_revenue\"] = (df.apple_pie_sales * apple_pie_price)\n",
    "df[\"blueberry_pie_revenue\"] = (df.blueberry_pie_sales * blueberry_pie_price)\n",
    "\n",
    "print(df)\n",
    "\n",
    "# plotting bar charts\n",
    "x = df.plot.bar(x='months', y='apple_pie_sales', rot=0, title=\"Apple sales per month\")\n",
    "y = df.plot.bar(x='months', y='blueberry_pie_sales', rot=0, title=\"Blueberry sales per month\")\n",
    "df[\"combined_sales\"] = (df.blueberry_pie_sales + df.apple_pie_sales)\n",
    "\n",
    "z = df.plot.bar(x='months', y='combined_sales', rot=0, title=\"Combined sales per month\")\n",
    "\n",
    "\n",
    "\n",
    "# print(ax)"
   ]
  },
  {
   "cell_type": "code",
   "execution_count": null,
   "metadata": {},
   "outputs": [],
   "source": [
    "# YOUR CODE HERE: calculate total sales of apple pies and total sales of blueberry pies\n",
    "# see above"
   ]
  },
  {
   "cell_type": "code",
   "execution_count": null,
   "metadata": {},
   "outputs": [],
   "source": [
    "# YOUR CODE HERE: create a new columns entitled apple_pie_revenue and blueberry_pie_revenue\n",
    "\n",
    "# Hint: revenue = units sold * price. Use the prices below.\n",
    "\n",
    "apple_pie_price = 12\n",
    "blueberry_pie_price = 15\n",
    "# see above"
   ]
  },
  {
   "cell_type": "code",
   "execution_count": null,
   "metadata": {},
   "outputs": [],
   "source": [
    "# find a way to plot bar charts and pie charts (ha) of the shop's sales\n",
    "# some refs:\n",
    "# https://pandas.pydata.org/docs/reference/api/pandas.DataFrame.plot.html\n",
    "\n",
    "# see above\n"
   ]
  }
 ],
 "metadata": {
  "kernelspec": {
   "display_name": "Python 3 (ipykernel)",
   "language": "python",
   "name": "python3"
  },
  "language_info": {
   "codemirror_mode": {
    "name": "ipython",
    "version": 3
   },
   "file_extension": ".py",
   "mimetype": "text/x-python",
   "name": "python",
   "nbconvert_exporter": "python",
   "pygments_lexer": "ipython3",
   "version": "3.9.13"
  },
  "vscode": {
   "interpreter": {
    "hash": "5c7b89af1651d0b8571dde13640ecdccf7d5a6204171d6ab33e7c296e100e08a"
   }
  }
 },
 "nbformat": 4,
 "nbformat_minor": 2
}
