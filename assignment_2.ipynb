{
 "cells": [
  {
   "cell_type": "markdown",
   "metadata": {},
   "source": [
    "# CS4630/5630 - Assignment 2\n",
    "\n",
    "Answer the exercises or complete the tasks outlined in bold, using the specific method described if applicable."
   ]
  },
  {
   "cell_type": "markdown",
   "metadata": {},
   "source": [
    "#### EXERCISE 1: String drills\n",
    "*Objective: Consolidate string manipulation, converting between data types where needed, using .format(), and not crashing due to quote mark issues.*\n",
    "\n",
    "\n",
    "**1a: Combine these four variables into a single string and print it.**"
   ]
  },
  {
   "cell_type": "code",
   "execution_count": 2,
   "metadata": {},
   "outputs": [
    {
     "name": "stdout",
     "output_type": "stream",
     "text": [
      "Welcome to Python class assignment 2\n"
     ]
    }
   ],
   "source": [
    "a = 'Welcome to '\n",
    "b = 'Python class '\n",
    "c = 'assignment '\n",
    "d = 2\n",
    "# YOUR CODE HERE\n",
    "print(a + b + c + str(d))"
   ]
  },
  {
   "cell_type": "markdown",
   "metadata": {},
   "source": [
    "**1b: Print `pi` to seven decimal places.**\n",
    "\n",
    "Hint: `.format` helps format strings neatly (see the lecture notebook)."
   ]
  },
  {
   "cell_type": "code",
   "execution_count": 3,
   "metadata": {},
   "outputs": [
    {
     "data": {
      "text/plain": [
       "'3.14'"
      ]
     },
     "execution_count": 3,
     "metadata": {},
     "output_type": "execute_result"
    }
   ],
   "source": [
    "pi_approx = 355/113\n",
    "\n",
    "# YOUR CODE HERE:\n",
    "\"{:.2f}\".format(pi_approx)\n"
   ]
  },
  {
   "cell_type": "markdown",
   "metadata": {},
   "source": [
    "**1c: Print both of the following:**\n",
    "\n",
    "    Nick says \"hello\"\n",
    "    This is Dharana's sandwich"
   ]
  },
  {
   "cell_type": "code",
   "execution_count": 4,
   "metadata": {
    "scrolled": true
   },
   "outputs": [
    {
     "name": "stdout",
     "output_type": "stream",
     "text": [
      "Nick says \"hello\"\n",
      "This is Dharana's sandwich\n"
     ]
    }
   ],
   "source": [
    "# YOUR CODE HERE: \n",
    "print('Nick says \"hello\"')\n",
    "print(\"This is Dharana's sandwich\")"
   ]
  },
  {
   "cell_type": "markdown",
   "metadata": {},
   "source": [
    "#### EXERCISE 2: Tourist agency\n",
    "*Objective: Iterate through lists, use string formatting.*\n",
    "\n",
    "Write a program to print \"Welcome to beautiful {country}!\" for each country in the list."
   ]
  },
  {
   "cell_type": "code",
   "execution_count": 6,
   "metadata": {},
   "outputs": [
    {
     "name": "stdout",
     "output_type": "stream",
     "text": [
      "Welcome to beautiful Kazakhstan!\n",
      "Welcome to beautiful Kenya!\n",
      "Welcome to beautiful Kiribati!\n",
      "Welcome to beautiful Korea (DPRK)!\n",
      "Welcome to beautiful Korea (ROC)!\n",
      "Welcome to beautiful Kosovo!\n",
      "Welcome to beautiful Kuwait!\n",
      "Welcome to beautiful Kyrgyzstan!\n"
     ]
    }
   ],
   "source": [
    "country_list = ['Kazakhstan','Kenya', 'Kiribati', \"Korea (DPRK)\", 'Korea (ROC)', 'Kosovo', 'Kuwait', 'Kyrgyzstan']\n",
    "# YOUR CODE HERE:\n",
    "for country in country_list:\n",
    "  print(f\"Welcome to beautiful {country}!\")"
   ]
  },
  {
   "cell_type": "markdown",
   "metadata": {},
   "source": [
    "#### EXERCISE 3: Quick brown fox\n",
    "**Split the string below into a list of words, then:**\n",
    "* print only the second to fifth items in the list\n",
    "* count the items in the list\n",
    "* replace \"dog\" with \"dinosaur\""
   ]
  },
  {
   "cell_type": "code",
   "execution_count": 18,
   "metadata": {},
   "outputs": [
    {
     "name": "stdout",
     "output_type": "stream",
     "text": [
      "quick\n",
      "brown\n",
      "fox\n",
      "jumps\n",
      "There are 9 items in the list.\n",
      "The quick brown fox jumps over the lazy dinosaur\n"
     ]
    }
   ],
   "source": [
    "rhyme = \"The quick brown fox jumps over the lazy dog\"\n",
    "\n",
    "# YOUR CODE HERE:\n",
    "arr = rhyme.split()\n",
    "for i in range(1, 5):\n",
    "  print(arr[i])\n",
    "  \n",
    "print(\"There are\", len(arr), \"items in the list.\")\n",
    "\n",
    "for i in range(len(arr)):\n",
    "  if arr[i] == \"dog\":\n",
    "    arr[i] = \"dinosaur\"\n",
    "newRhyme = \" \".join(arr)\n",
    "print(newRhyme) \n",
    "  "
   ]
  },
  {
   "cell_type": "markdown",
   "metadata": {},
   "source": [
    "#### EXERCISE 4: Name formatter\n",
    "**Reformat each name to match the following**: \n",
    "* LAST NAME, First name.\n",
    "\n",
    "Note the capitalization and comma. Hint: use `.split()` and `.upper()`."
   ]
  },
  {
   "cell_type": "code",
   "execution_count": 22,
   "metadata": {},
   "outputs": [
    {
     "name": "stdout",
     "output_type": "stream",
     "text": [
      "BHARDWAJ Gaurav\n",
      "ELSAYED Mahmoud\n"
     ]
    }
   ],
   "source": [
    "instructor1 = 'Gaurav Bhardwaj'\n",
    "instructor2 = 'Mahmoud Elsayed'\n",
    "\n",
    "# YOUR CODE HERE:\n",
    "firstAndLast = instructor1.split()\n",
    "formatted = firstAndLast[1].upper() + \" \" + firstAndLast[0]\n",
    "print(formatted)\n",
    "\n",
    "firstAndLast = instructor2.split()\n",
    "formatted = firstAndLast[1].upper() + \" \" + firstAndLast[0]\n",
    "print(formatted)\n"
   ]
  },
  {
   "cell_type": "markdown",
   "metadata": {},
   "source": [
    "#### EXERCISE 6: Tangled lists\n",
    "\n",
    "*Objective: Navigate a set of lists nested inside lists, use square bracket indexing, use list comprehensions.*\n",
    "\n",
    "Given this nested list, grab the word dragon:"
   ]
  },
  {
   "cell_type": "code",
   "execution_count": 17,
   "metadata": {},
   "outputs": [
    {
     "name": "stdout",
     "output_type": "stream",
     "text": [
      "['dragon']\n",
      "['dragon']\n"
     ]
    }
   ],
   "source": [
    "my_list = [0, 4, [4, 3, 2], [420, 250, [1, 2, 3, \"dragon\"]], 365, 23, 6]\n",
    "# my_list2 = [0, 4, [4, 3, 2], [420, 250, [1, 2, 3, \"\"]], 365, 23, 6]\n",
    "# my_list3 = [0, 4, [4, 3, 2], [420, 250, [1, 2, 3, \"\"]], 365, 23, \"dragon\"]\n",
    "\n",
    "res = []\n",
    "# recursive solution\n",
    "def checkItems(items):\n",
    "    for item in items:\n",
    "        if type(item) is list:\n",
    "            checkItems(item)\n",
    "        if item == \"dragon\":\n",
    "            res.append(\"dragon\")\n",
    "\n",
    "\n",
    "# list comprehension solution. I wasn't able to do it in one line\n",
    "listComprehensionResult = []\n",
    "\n",
    "\n",
    "def checkItemsComprehension(items):\n",
    "    for item in items:\n",
    "        if type(item) is list:\n",
    "            foundDragons = [x for x in item if x == \"dragon\"]\n",
    "            for dragon in foundDragons:\n",
    "              listComprehensionResult.append(dragon)\n",
    "            checkItemsComprehension(item)\n",
    "\n",
    "\n",
    "checkItemsComprehension(my_list)\n",
    "print(listComprehensionResult)\n",
    "\n",
    "checkItems(my_list)\n",
    "print(res)\n"
   ]
  },
  {
   "cell_type": "markdown",
   "metadata": {},
   "source": [
    "Convert the following list from strings to integers:"
   ]
  },
  {
   "cell_type": "code",
   "execution_count": 48,
   "metadata": {},
   "outputs": [
    {
     "name": "stdout",
     "output_type": "stream",
     "text": [
      "[10009, 20009, 20022, 20034, 90210]\n"
     ]
    }
   ],
   "source": [
    "# YOUR CODE HERE:\n",
    "\n",
    "ZIP_list = ['10009','20009','20022','20034','90210']\n",
    "for i in range(len(ZIP_list)):\n",
    "  ZIP_list[i] = int(ZIP_list[i])\n",
    "print(ZIP_list)  \n"
   ]
  },
  {
   "cell_type": "markdown",
   "metadata": {},
   "source": [
    "#### EXERCISE 7: Prime numbers\n",
    "*Objective: Combine loops, logic conditions and math operations.*"
   ]
  },
  {
   "cell_type": "markdown",
   "metadata": {},
   "source": [
    "Write a program to loop from 1 to 100 and print all the prime numbers"
   ]
  },
  {
   "cell_type": "code",
   "execution_count": 8,
   "metadata": {
    "scrolled": true
   },
   "outputs": [
    {
     "name": "stdout",
     "output_type": "stream",
     "text": [
      "2\n",
      "3\n",
      "5\n",
      "7\n",
      "11\n",
      "13\n",
      "17\n",
      "19\n",
      "23\n",
      "29\n",
      "31\n",
      "37\n",
      "41\n",
      "43\n",
      "47\n",
      "53\n",
      "59\n",
      "61\n",
      "67\n",
      "71\n",
      "73\n",
      "79\n",
      "83\n",
      "89\n",
      "97\n"
     ]
    }
   ],
   "source": [
    "# YOUR CODE HERE:\n",
    "def checkIfPrime(num):\n",
    "  for i in range(2, num):\n",
    "    for j in range(2, num):\n",
    "      if (num / i) % j == 0:\n",
    "        return False \n",
    "  return True\n",
    "\n",
    "for i in range(2, 101):\n",
    "  if checkIfPrime(i):\n",
    "    print(i)\n",
    "    \n"
   ]
  },
  {
   "cell_type": "markdown",
   "metadata": {},
   "source": [
    "#### EXERCISE 8: List comprehensions\n",
    "Use list comprehensions to do the following:\n",
    "* 6a. List all numbers from 1 to 1000 that are divisible by 12.\n",
    "* 6b. List all the holiday destinations that are less than 7 characters long."
   ]
  },
  {
   "cell_type": "code",
   "execution_count": 15,
   "metadata": {},
   "outputs": [
    {
     "name": "stdout",
     "output_type": "stream",
     "text": [
      "[12, 24, 36, 48, 60, 72, 84, 96, 108, 120, 132, 144, 156, 168, 180, 192, 204, 216, 228, 240, 252, 264, 276, 288, 300, 312, 324, 336, 348, 360, 372, 384, 396, 408, 420, 432, 444, 456, 468, 480, 492, 504, 516, 528, 540, 552, 564, 576, 588, 600, 612, 624, 636, 648, 660, 672, 684, 696, 708, 720, 732, 744, 756, 768, 780, 792, 804, 816, 828, 840, 852, 864, 876, 888, 900, 912, 924, 936, 948, 960, 972, 984, 996]\n",
      "['maine', 'ibiza', 'bali']\n"
     ]
    }
   ],
   "source": [
    "# YOUR CODE HERE\n",
    "\n",
    "#6a\n",
    "print([x for x in range(1, 1001) if x % 12 == 0])    \n",
    "\n",
    "#6b\n",
    "holiday_destinations = ['maine','cornwall','ibiza','florida','bali','bognor regis']\n",
    "print([x for x in holiday_destinations if len(x) < 7])"
   ]
  }
 ],
 "metadata": {
  "kernelspec": {
   "display_name": "Python 3 (ipykernel)",
   "language": "python",
   "name": "python3"
  },
  "language_info": {
   "codemirror_mode": {
    "name": "ipython",
    "version": 3
   },
   "file_extension": ".py",
   "mimetype": "text/x-python",
   "name": "python",
   "nbconvert_exporter": "python",
   "pygments_lexer": "ipython3",
   "version": "3.9.13"
  },
  "vscode": {
   "interpreter": {
    "hash": "5c7b89af1651d0b8571dde13640ecdccf7d5a6204171d6ab33e7c296e100e08a"
   }
  }
 },
 "nbformat": 4,
 "nbformat_minor": 2
}
